{
 "cells": [
  {
   "cell_type": "markdown",
   "metadata": {},
   "source": [
    "# TEMPE CRIME ANALYSIS\n",
    "\n",
    "### Introduction\n",
    "\n",
    "The city of Tempe and Arizona State University have released a historical dataset listing crimes committed over the last couple of years. The datasets includes case numbers, incident types, date and times of crime, and location data including latitude and longitude coordinates.\n",
    "\n",
    "This notebook aims to explore and visualize some of this data. To begin, create an anconda environment based off enivroment.yml with this command:\n",
    "\n",
    "conda env create -f environment.yml -n crime-analysis\n",
    "\n",
    "Next, run the bash script download_data to download the data and import it into a Postgres database with this command:\n",
    "\n",
    "./download_data\n",
    "\n",
    "We'll start by importing necessary packages and getting the project file path.\n",
    "\n",
    "numbersTaken as a whole, the detailed trip-level data is more than just a vast list of taxi pickup and drop off coordinates: it’s a story of New York. How bad is the rush hour traffic from Midtown to JFK? Where does the Bridge and Tunnel crowd hang out on Saturday nights? What time do investment bankers get to work? How has Uber changed the landscape for taxis? And could Bruce Willis and Samuel L. Jackson have made it from 72nd and Broadway to Wall Street in less than 30 minutes? The dataset addresses all of these questions and many more."
   ]
  },
  {
   "cell_type": "code",
   "execution_count": 1,
   "metadata": {},
   "outputs": [
    {
     "name": "stdout",
     "output_type": "stream",
     "text": [
      "Mon Nov 19 2018 \n",
      "\n",
      "CPython 3.7.0\n",
      "IPython 7.1.1\n",
      "\n",
      "numpy 1.15.4\n",
      "scipy 1.1.0\n",
      "sklearn 0.20.0\n",
      "pandas 0.23.4\n",
      "psycopg2 2.7.5 (dt dec pq3 ext lo64)\n",
      "\n",
      "compiler   : Clang 4.0.1 (tags/RELEASE_401/final)\n",
      "system     : Darwin\n",
      "release    : 17.5.0\n",
      "machine    : x86_64\n",
      "processor  : i386\n",
      "CPU cores  : 4\n",
      "interpreter: 64bit\n",
      "/Users/sebp/LocalDocuments2/Data Science/Personal/tempe_crime_analysis\n"
     ]
    }
   ],
   "source": [
    "# Loads watermark extension and prints details about current platform\n",
    "%load_ext watermark\n",
    "%watermark -v -n -m -p numpy,scipy,sklearn,pandas,psycopg2\n",
    " \n",
    "# import packages\n",
    "%matplotlib inline\n",
    "%load_ext dotenv\n",
    "# Use find_dotenv to locate the file\n",
    "%dotenv\n",
    "\n",
    "import pandas as pd\n",
    "import pandas.io.sql as psql\n",
    "import numpy as np\n",
    "import seaborn as sns\n",
    "import matplotlib.pyplot as plt\n",
    "import os\n",
    "import psycopg2\n",
    "\n",
    "PROJ_ROOT = os.path.abspath(os.path.join(os.pardir))\n",
    "print(PROJ_ROOT)\n",
    "import sys\n",
    "sys.path.append(os.path.join(PROJ_ROOT, 'src'))"
   ]
  },
  {
   "cell_type": "markdown",
   "metadata": {},
   "source": [
    "### 0.0 Import and Preview the Available Data\n",
    "\n",
    "The bash script from earlier downloaded the data and imported it into a Postgres database. Now it's time to import the data into a pandas dataframe in this notebook."
   ]
  },
  {
   "cell_type": "code",
   "execution_count": 2,
   "metadata": {},
   "outputs": [],
   "source": [
    "connection = psycopg2.connect(user = os.getenv(\"DB_USER\"),\n",
    "                                  password = os.getenv(\"DB_PASSWORD\"),\n",
    "                                  host = os.getenv(\"DB_HOST\"),\n",
    "                                  port = os.getenv(\"DB_PORT\"),\n",
    "                                  database = os.getenv(\"DB_NAME\"))\n",
    "cur = connection.cursor()\n",
    "\n",
    "tempe_crime_df = psql.read_sql(\"Select * from tempe_pd_offenses\", connection)\n",
    "asu_crime_df = psql.read_sql(\"Select * from asu_pd_offenses\", connection)"
   ]
  },
  {
   "cell_type": "markdown",
   "metadata": {},
   "source": [
    "Let's take a peak inside to see what our data looks like.\n",
    "\n",
    "The city of Tempe dataset looks like this:"
   ]
  },
  {
   "cell_type": "code",
   "execution_count": 3,
   "metadata": {},
   "outputs": [
    {
     "data": {
      "text/html": [
       "<div>\n",
       "<style scoped>\n",
       "    .dataframe tbody tr th:only-of-type {\n",
       "        vertical-align: middle;\n",
       "    }\n",
       "\n",
       "    .dataframe tbody tr th {\n",
       "        vertical-align: top;\n",
       "    }\n",
       "\n",
       "    .dataframe thead th {\n",
       "        text-align: right;\n",
       "    }\n",
       "</style>\n",
       "<table border=\"1\" class=\"dataframe\">\n",
       "  <thead>\n",
       "    <tr style=\"text-align: right;\">\n",
       "      <th></th>\n",
       "      <th>id</th>\n",
       "      <th>latitude</th>\n",
       "      <th>longitude</th>\n",
       "      <th>incident_datetime</th>\n",
       "      <th>incident_address</th>\n",
       "      <th>disclaimer</th>\n",
       "      <th>place_name</th>\n",
       "      <th>offense</th>\n",
       "      <th>location_type</th>\n",
       "    </tr>\n",
       "  </thead>\n",
       "  <tbody>\n",
       "    <tr>\n",
       "      <th>0</th>\n",
       "      <td>2001</td>\n",
       "      <td>33.4029</td>\n",
       "      <td>-111.965</td>\n",
       "      <td>2016-08-16T08:00:00.000Z</td>\n",
       "      <td>1XXX W FOUNTAINHEAD PKWY</td>\n",
       "      <td>Point has not been altered</td>\n",
       "      <td>WESTERN INTERNATIONAL UNIVERSITY</td>\n",
       "      <td>FRAUD</td>\n",
       "      <td>Commercial/Office Building                    ...</td>\n",
       "    </tr>\n",
       "    <tr>\n",
       "      <th>1</th>\n",
       "      <td>2002</td>\n",
       "      <td>33.3346</td>\n",
       "      <td>-111.946</td>\n",
       "      <td>2016-09-01T07:53:00.000Z</td>\n",
       "      <td>KYRENE RD / W WARNER RD</td>\n",
       "      <td>Point has not been altered</td>\n",
       "      <td>None</td>\n",
       "      <td>ACCIDENT-NO INJURY</td>\n",
       "      <td>Highway/Road/Alley/Sidewalk                   ...</td>\n",
       "    </tr>\n",
       "    <tr>\n",
       "      <th>2</th>\n",
       "      <td>2003</td>\n",
       "      <td>33.3783</td>\n",
       "      <td>-111.929</td>\n",
       "      <td>2016-09-03T23:53:00.000Z</td>\n",
       "      <td>RURAL RD / E BASELINE RD</td>\n",
       "      <td>Point has not been altered</td>\n",
       "      <td>None</td>\n",
       "      <td>ACCIDENT-INJURY</td>\n",
       "      <td>Highway/Road/Alley/Sidewalk                   ...</td>\n",
       "    </tr>\n",
       "    <tr>\n",
       "      <th>3</th>\n",
       "      <td>2004</td>\n",
       "      <td>33.3783</td>\n",
       "      <td>-111.930</td>\n",
       "      <td>2016-09-05T12:12:00.000Z</td>\n",
       "      <td>7XX E BASELINE RD</td>\n",
       "      <td>Point has not been altered</td>\n",
       "      <td>LOWE'S</td>\n",
       "      <td>SHOPLIFTING</td>\n",
       "      <td>Department/Discount Store                     ...</td>\n",
       "    </tr>\n",
       "    <tr>\n",
       "      <th>4</th>\n",
       "      <td>2005</td>\n",
       "      <td>33.3869</td>\n",
       "      <td>-111.939</td>\n",
       "      <td>2016-09-05T13:02:00.000Z</td>\n",
       "      <td>4XXX S MILL AVE</td>\n",
       "      <td>Point has not been altered</td>\n",
       "      <td>DAVENPORT APARTMENTS</td>\n",
       "      <td>CRIMINAL DAMAGE</td>\n",
       "      <td>Residence/Home                                ...</td>\n",
       "    </tr>\n",
       "  </tbody>\n",
       "</table>\n",
       "</div>"
      ],
      "text/plain": [
       "     id  latitude  longitude         incident_datetime  \\\n",
       "0  2001   33.4029   -111.965  2016-08-16T08:00:00.000Z   \n",
       "1  2002   33.3346   -111.946  2016-09-01T07:53:00.000Z   \n",
       "2  2003   33.3783   -111.929  2016-09-03T23:53:00.000Z   \n",
       "3  2004   33.3783   -111.930  2016-09-05T12:12:00.000Z   \n",
       "4  2005   33.3869   -111.939  2016-09-05T13:02:00.000Z   \n",
       "\n",
       "                incident_address                  disclaimer  \\\n",
       "0  1XXX W FOUNTAINHEAD PKWY       Point has not been altered   \n",
       "1      KYRENE RD / W WARNER RD    Point has not been altered   \n",
       "2     RURAL RD / E BASELINE RD    Point has not been altered   \n",
       "3          7XX E BASELINE RD      Point has not been altered   \n",
       "4           4XXX S MILL AVE       Point has not been altered   \n",
       "\n",
       "                                 place_name                         offense  \\\n",
       "0  WESTERN INTERNATIONAL UNIVERSITY          FRAUD                            \n",
       "1                                      None  ACCIDENT-NO INJURY               \n",
       "2                                      None  ACCIDENT-INJURY                  \n",
       "3  LOWE'S                                    SHOPLIFTING                      \n",
       "4  DAVENPORT APARTMENTS                      CRIMINAL DAMAGE                  \n",
       "\n",
       "                                       location_type  \n",
       "0  Commercial/Office Building                    ...  \n",
       "1  Highway/Road/Alley/Sidewalk                   ...  \n",
       "2  Highway/Road/Alley/Sidewalk                   ...  \n",
       "3  Department/Discount Store                     ...  \n",
       "4  Residence/Home                                ...  "
      ]
     },
     "execution_count": 3,
     "metadata": {},
     "output_type": "execute_result"
    }
   ],
   "source": [
    "tempe_crime_df.head()"
   ]
  },
  {
   "cell_type": "markdown",
   "metadata": {},
   "source": [
    "The ASU dataset looks like this:"
   ]
  },
  {
   "cell_type": "code",
   "execution_count": 4,
   "metadata": {},
   "outputs": [
    {
     "data": {
      "text/html": [
       "<div>\n",
       "<style scoped>\n",
       "    .dataframe tbody tr th:only-of-type {\n",
       "        vertical-align: middle;\n",
       "    }\n",
       "\n",
       "    .dataframe tbody tr th {\n",
       "        vertical-align: top;\n",
       "    }\n",
       "\n",
       "    .dataframe thead th {\n",
       "        text-align: right;\n",
       "    }\n",
       "</style>\n",
       "<table border=\"1\" class=\"dataframe\">\n",
       "  <thead>\n",
       "    <tr style=\"text-align: right;\">\n",
       "      <th></th>\n",
       "      <th>id</th>\n",
       "      <th>case_number</th>\n",
       "      <th>incident_datetime</th>\n",
       "      <th>latitude</th>\n",
       "      <th>longitude</th>\n",
       "      <th>incident_address</th>\n",
       "      <th>city</th>\n",
       "      <th>offense</th>\n",
       "      <th>offense_type</th>\n",
       "    </tr>\n",
       "  </thead>\n",
       "  <tbody>\n",
       "    <tr>\n",
       "      <th>0</th>\n",
       "      <td>18440147</td>\n",
       "      <td>2009-00011506</td>\n",
       "      <td>07/08/2009 12:00:00 AM</td>\n",
       "      <td>0.0000</td>\n",
       "      <td>0.000</td>\n",
       "      <td>None</td>\n",
       "      <td>Tempe</td>\n",
       "      <td>Time: 03:54:4&lt;br&gt;Criminal Damage</td>\n",
       "      <td>Other</td>\n",
       "    </tr>\n",
       "    <tr>\n",
       "      <th>1</th>\n",
       "      <td>826958308</td>\n",
       "      <td>2017-00089659</td>\n",
       "      <td>11/12/2017 12:00:00 AM</td>\n",
       "      <td>33.4220</td>\n",
       "      <td>-111.923</td>\n",
       "      <td>UNIVERSITY DR &amp; AMP</td>\n",
       "      <td>TEMPE</td>\n",
       "      <td>Time: 00:06:4&lt;br&gt;Driving Under the Influence/Al</td>\n",
       "      <td>Quality of Life</td>\n",
       "    </tr>\n",
       "    <tr>\n",
       "      <th>2</th>\n",
       "      <td>826958309</td>\n",
       "      <td>2017-00090666</td>\n",
       "      <td>11/15/2017 12:00:00 AM</td>\n",
       "      <td>33.4534</td>\n",
       "      <td>-111.937</td>\n",
       "      <td>100 Block TAYLOR ST</td>\n",
       "      <td>TEMPE</td>\n",
       "      <td>Time: 09:49:5&lt;br&gt;Larceny Theft</td>\n",
       "      <td>Theft</td>\n",
       "    </tr>\n",
       "    <tr>\n",
       "      <th>3</th>\n",
       "      <td>826958310</td>\n",
       "      <td>2017-00090717</td>\n",
       "      <td>11/15/2017 12:00:00 AM</td>\n",
       "      <td>33.4535</td>\n",
       "      <td>-111.937</td>\n",
       "      <td>100 Block TAYLOR ST</td>\n",
       "      <td>TEMPE</td>\n",
       "      <td>Time: 13:03:0&lt;br&gt;Larceny Theft</td>\n",
       "      <td>Theft</td>\n",
       "    </tr>\n",
       "    <tr>\n",
       "      <th>4</th>\n",
       "      <td>826958311</td>\n",
       "      <td>2017-00090756</td>\n",
       "      <td>11/15/2017 12:00:00 AM</td>\n",
       "      <td>33.4548</td>\n",
       "      <td>-112.080</td>\n",
       "      <td>500 Block FILLMORE ST</td>\n",
       "      <td>PHOENIX</td>\n",
       "      <td>Time: 15:33:0&lt;br&gt;Traffic-Criminal</td>\n",
       "      <td>Traffic</td>\n",
       "    </tr>\n",
       "  </tbody>\n",
       "</table>\n",
       "</div>"
      ],
      "text/plain": [
       "          id    case_number       incident_datetime  latitude  longitude  \\\n",
       "0   18440147  2009-00011506  07/08/2009 12:00:00 AM    0.0000      0.000   \n",
       "1  826958308  2017-00089659  11/12/2017 12:00:00 AM   33.4220   -111.923   \n",
       "2  826958309  2017-00090666  11/15/2017 12:00:00 AM   33.4534   -111.937   \n",
       "3  826958310  2017-00090717  11/15/2017 12:00:00 AM   33.4535   -111.937   \n",
       "4  826958311  2017-00090756  11/15/2017 12:00:00 AM   33.4548   -112.080   \n",
       "\n",
       "        incident_address     city  \\\n",
       "0                   None    Tempe   \n",
       "1    UNIVERSITY DR & AMP    TEMPE   \n",
       "2    100 Block TAYLOR ST    TEMPE   \n",
       "3    100 Block TAYLOR ST    TEMPE   \n",
       "4  500 Block FILLMORE ST  PHOENIX   \n",
       "\n",
       "                                           offense     offense_type  \n",
       "0                 Time: 03:54:4<br>Criminal Damage            Other  \n",
       "1  Time: 00:06:4<br>Driving Under the Influence/Al  Quality of Life  \n",
       "2                   Time: 09:49:5<br>Larceny Theft            Theft  \n",
       "3                   Time: 13:03:0<br>Larceny Theft            Theft  \n",
       "4                Time: 15:33:0<br>Traffic-Criminal          Traffic  "
      ]
     },
     "execution_count": 4,
     "metadata": {},
     "output_type": "execute_result"
    }
   ],
   "source": [
    "asu_crime_df.head()"
   ]
  },
  {
   "cell_type": "markdown",
   "metadata": {},
   "source": [
    "# 1- Crime Data Exploration\n",
    "\n",
    "### 1.0 Data Clean Up\n",
    "\n",
    "Let's figure what we need to do to cleanup the data before doing anything with it.\n",
    "\n",
    "We'll  find the data ranges of both data sets, and figure out how complete the dataset is.\n",
    "\n",
    "While we're at it, we'll also convert the date columns to datetimes types."
   ]
  },
  {
   "cell_type": "code",
   "execution_count": 5,
   "metadata": {},
   "outputs": [
    {
     "name": "stdout",
     "output_type": "stream",
     "text": [
      "165933 tempe crime records.\n",
      "15153 asu crime records.\n",
      "The oldest Tempe dataset crime is 1900-06-10 19:00:00\n",
      "The newest Tempe dataset crime is 2018-11-11 10:43:00\n",
      "Tempe dataset consistancy\n",
      "id                   165933\n",
      "latitude             165932\n",
      "longitude            165932\n",
      "incident_datetime    165374\n",
      "incident_address     165933\n",
      "disclaimer           165933\n",
      "place_name            63656\n",
      "offense              165280\n",
      "location_type        165280\n",
      "dtype: int64\n",
      "\n",
      "\n",
      "The oldest ASU dataset crime is 1951-03-01 00:00:00\n",
      "The newest SU dataset crime is 2018-02-09 00:00:00\n",
      "ASU dataset consistancy\n",
      "id                   15153\n",
      "case_number          15153\n",
      "incident_datetime    15153\n",
      "latitude             15153\n",
      "longitude            15153\n",
      "incident_address     15140\n",
      "city                 15153\n",
      "offense              15153\n",
      "offense_type         15153\n",
      "dtype: int64\n"
     ]
    }
   ],
   "source": [
    "print (len(tempe_crime_df) , 'tempe crime records.')\n",
    "print (len(asu_crime_df) , 'asu crime records.')\n",
    "\n",
    "tempe_crime_df['incident_datetime'] =  pd.to_datetime(tempe_crime_df['incident_datetime'])\n",
    "\n",
    "print ('The oldest Tempe dataset crime is', tempe_crime_df.incident_datetime.min())\n",
    "print ('The newest Tempe dataset crime is', tempe_crime_df.incident_datetime.max())\n",
    "print ('Tempe dataset consistancy')\n",
    "print (tempe_crime_df.count())\n",
    "\n",
    "print ('\\n')\n",
    "asu_crime_df['incident_datetime'] =  pd.to_datetime(asu_crime_df['incident_datetime'])\n",
    "\n",
    "print ('The oldest ASU dataset crime is', asu_crime_df.incident_datetime.min())\n",
    "print ('The newest SU dataset crime is', asu_crime_df.incident_datetime.max())\n",
    "print ('ASU dataset consistancy')\n",
    "print (asu_crime_df.count())"
   ]
  },
  {
   "cell_type": "markdown",
   "metadata": {},
   "source": [
    "### 1.1 - Drop Missing Values\n",
    "\n",
    "The ASU dataset seems fairly consistent, but the Tempe dataset is a little more sporadic.\n",
    "\n",
    "Most columns in the Tempe dataset have similar numbers of values besides `place_name`, which is not present for most of the rows, likely because many crimes occur on streets or places with no name.\n",
    "\n",
    "For our analysis, it will be best to have the exact same number of values for each field. We'll go ahead now and make sure that every single cell in the `place_name` column has a value, and then drop all missing rows."
   ]
  },
  {
   "cell_type": "code",
   "execution_count": 6,
   "metadata": {},
   "outputs": [
    {
     "name": "stdout",
     "output_type": "stream",
     "text": [
      "When we count the values again, we'll see that each column has the exact same number of entries.\n"
     ]
    },
    {
     "data": {
      "text/plain": [
       "id                   165279\n",
       "latitude             165279\n",
       "longitude            165279\n",
       "incident_datetime    165279\n",
       "incident_address     165279\n",
       "disclaimer           165279\n",
       "place_name           165279\n",
       "offense              165279\n",
       "location_type        165279\n",
       "dtype: int64"
      ]
     },
     "execution_count": 6,
     "metadata": {},
     "output_type": "execute_result"
    }
   ],
   "source": [
    "# Fill missing search type values with placeholder\n",
    "tempe_crime_df['place_name'].fillna('N/A', inplace=True)\n",
    "\n",
    "# Drop rows with missing values\n",
    "tempe_crime_df.dropna(inplace=True)\n",
    "\n",
    "print('When we count the values again, we\\'ll see that each column has the exact same number of entries.')\n",
    "tempe_crime_df.count()"
   ]
  },
  {
   "cell_type": "markdown",
   "metadata": {},
   "source": [
    "We'll make sure the asu dataset also has the same number of values for each field."
   ]
  },
  {
   "cell_type": "code",
   "execution_count": 7,
   "metadata": {},
   "outputs": [
    {
     "name": "stdout",
     "output_type": "stream",
     "text": [
      "When we count the values again, we'll see that each column has the exact same number of entries.\n"
     ]
    },
    {
     "data": {
      "text/plain": [
       "id                   15140\n",
       "case_number          15140\n",
       "incident_datetime    15140\n",
       "latitude             15140\n",
       "longitude            15140\n",
       "incident_address     15140\n",
       "city                 15140\n",
       "offense              15140\n",
       "offense_type         15140\n",
       "dtype: int64"
      ]
     },
     "execution_count": 7,
     "metadata": {},
     "output_type": "execute_result"
    }
   ],
   "source": [
    "# Drop rows with missing values\n",
    "asu_crime_df.dropna(inplace=True)\n",
    "\n",
    "print('When we count the values again, we\\'ll see that each column has the exact same number of entries.')\n",
    "asu_crime_df.count()"
   ]
  },
  {
   "cell_type": "markdown",
   "metadata": {},
   "source": [
    "### 1.2 - Remove Years Without Enough Data\n",
    "\n",
    "As we saw earlier, this dataset streches quite a wide range of dates. It's very unlikely however that all the data is correct - the odds of one off records from over 100 years ago being correct is low.\n",
    "\n",
    "Let's first visualize the amount of data per year to see what we're working with. We'll start by adding another column to our dataframes with just the year of the crime."
   ]
  },
  {
   "cell_type": "code",
   "execution_count": 8,
   "metadata": {},
   "outputs": [
    {
     "data": {
      "image/png": "[encoded data removed]",
      "text/plain": [
       "<Figure size 1152x432 with 1 Axes>"
      ]
     },
     "metadata": {
      "needs_background": "light"
     },
     "output_type": "display_data"
    },
    {
     "data": {
      "image/png": "[encoded data removed]",
      "text/plain": [
       "<Figure size 1152x432 with 1 Axes>"
      ]
     },
     "metadata": {
      "needs_background": "light"
     },
     "output_type": "display_data"
    }
   ],
   "source": [
    "# asu_year_df = asu_crime_df[['incident_datetime']].copy()\n",
    "asu_crime_df['year'] = asu_crime_df['incident_datetime'].map(lambda x: x.year)\n",
    "tempe_crime_df['year'] = tempe_crime_df['incident_datetime'].map(lambda x: x.year)\n",
    "\n",
    "# fig = plt.gcf()\n",
    "# fig.set_size_inches( 16, 10)\n",
    "\n",
    "plt.figure(figsize=(16, 6))\n",
    "sns.countplot(x='year', data=asu_crime_df)\n",
    "plt.ylabel('no. of crimes')\n",
    "plt.title('ASU Crimes per Year')\n",
    "plt.show()\n",
    "\n",
    "plt.figure(figsize=(16, 6))\n",
    "sns.countplot(x='year', data=tempe_crime_df)\n",
    "plt.ylabel('no. of crimes')\n",
    "plt.title('Tempe Crimes per Year')\n",
    "plt.show()"
   ]
  },
  {
   "cell_type": "markdown",
   "metadata": {},
   "source": [
    "The asu dataset seems to in 2009. Previous data is probably incorrectly labeled.\n",
    "\n",
    "The Tempe dataset also is pretty sparse until 2011. For now, lets remove all data before 2009 in both datasets."
   ]
  },
  {
   "cell_type": "code",
   "execution_count": 9,
   "metadata": {},
   "outputs": [
    {
     "data": {
      "image/png": "[encoded data removed]",
      "text/plain": [
       "<Figure size 1152x432 with 1 Axes>"
      ]
     },
     "metadata": {
      "needs_background": "light"
     },
     "output_type": "display_data"
    },
    {
     "data": {
      "image/png": "[encoded data removed]",
      "text/plain": [
       "<Figure size 1152x432 with 1 Axes>"
      ]
     },
     "metadata": {
      "needs_background": "light"
     },
     "output_type": "display_data"
    }
   ],
   "source": [
    "asu_crime_df = asu_crime_df[asu_crime_df.year >= 2009]\n",
    "tempe_crime_df = tempe_crime_df[tempe_crime_df.year >= 2009]\n",
    "\n",
    "plt.figure(figsize=(16, 6))\n",
    "sns.countplot(x='year', data=asu_crime_df)\n",
    "plt.ylabel('no. of crimes')\n",
    "plt.title('ASU Crimes per Year')\n",
    "plt.show()\n",
    "\n",
    "\n",
    "\n",
    "\n",
    "plt.figure(figsize=(16, 6))\n",
    "sns.countplot(x='year', data=tempe_crime_df)\n",
    "plt.ylabel('no. of crimes')\n",
    "plt.title('Tempe Crimes per Year')\n",
    "plt.show()"
   ]
  },
  {
   "cell_type": "markdown",
   "metadata": {},
   "source": [
    "### 1.3 - Remove HTML from data\n",
    "\n",
    "The `offense` column in the ASU dataset contains html `<br>` along with duplicated time stamps before the html tag. Let's make our data cleaner and remove the html tags.\n",
    "\n",
    "We'll use a lambda function to remove the html from every row in the `offense` column."
   ]
  },
  {
   "cell_type": "code",
   "execution_count": 10,
   "metadata": {},
   "outputs": [
    {
     "data": {
      "text/html": [
       "<div>\n",
       "<style scoped>\n",
       "    .dataframe tbody tr th:only-of-type {\n",
       "        vertical-align: middle;\n",
       "    }\n",
       "\n",
       "    .dataframe tbody tr th {\n",
       "        vertical-align: top;\n",
       "    }\n",
       "\n",
       "    .dataframe thead th {\n",
       "        text-align: right;\n",
       "    }\n",
       "</style>\n",
       "<table border=\"1\" class=\"dataframe\">\n",
       "  <thead>\n",
       "    <tr style=\"text-align: right;\">\n",
       "      <th></th>\n",
       "      <th>id</th>\n",
       "      <th>case_number</th>\n",
       "      <th>incident_datetime</th>\n",
       "      <th>latitude</th>\n",
       "      <th>longitude</th>\n",
       "      <th>incident_address</th>\n",
       "      <th>city</th>\n",
       "      <th>offense</th>\n",
       "      <th>offense_type</th>\n",
       "      <th>year</th>\n",
       "    </tr>\n",
       "  </thead>\n",
       "  <tbody>\n",
       "    <tr>\n",
       "      <th>1</th>\n",
       "      <td>826958308</td>\n",
       "      <td>2017-00089659</td>\n",
       "      <td>2017-11-12</td>\n",
       "      <td>33.4220</td>\n",
       "      <td>-111.923</td>\n",
       "      <td>UNIVERSITY DR &amp; AMP</td>\n",
       "      <td>TEMPE</td>\n",
       "      <td>Driving Under the Influence/Al</td>\n",
       "      <td>Quality of Life</td>\n",
       "      <td>2017</td>\n",
       "    </tr>\n",
       "    <tr>\n",
       "      <th>2</th>\n",
       "      <td>826958309</td>\n",
       "      <td>2017-00090666</td>\n",
       "      <td>2017-11-15</td>\n",
       "      <td>33.4534</td>\n",
       "      <td>-111.937</td>\n",
       "      <td>100 Block TAYLOR ST</td>\n",
       "      <td>TEMPE</td>\n",
       "      <td>Larceny Theft</td>\n",
       "      <td>Theft</td>\n",
       "      <td>2017</td>\n",
       "    </tr>\n",
       "    <tr>\n",
       "      <th>3</th>\n",
       "      <td>826958310</td>\n",
       "      <td>2017-00090717</td>\n",
       "      <td>2017-11-15</td>\n",
       "      <td>33.4535</td>\n",
       "      <td>-111.937</td>\n",
       "      <td>100 Block TAYLOR ST</td>\n",
       "      <td>TEMPE</td>\n",
       "      <td>Larceny Theft</td>\n",
       "      <td>Theft</td>\n",
       "      <td>2017</td>\n",
       "    </tr>\n",
       "    <tr>\n",
       "      <th>4</th>\n",
       "      <td>826958311</td>\n",
       "      <td>2017-00090756</td>\n",
       "      <td>2017-11-15</td>\n",
       "      <td>33.4548</td>\n",
       "      <td>-112.080</td>\n",
       "      <td>500 Block FILLMORE ST</td>\n",
       "      <td>PHOENIX</td>\n",
       "      <td>Traffic-Criminal</td>\n",
       "      <td>Traffic</td>\n",
       "      <td>2017</td>\n",
       "    </tr>\n",
       "    <tr>\n",
       "      <th>5</th>\n",
       "      <td>827155011</td>\n",
       "      <td>2017-00090703</td>\n",
       "      <td>2017-11-15</td>\n",
       "      <td>33.4183</td>\n",
       "      <td>-111.933</td>\n",
       "      <td>400 Block ORANGE ST</td>\n",
       "      <td>TEMPE</td>\n",
       "      <td>Larceny Theft</td>\n",
       "      <td>Theft</td>\n",
       "      <td>2017</td>\n",
       "    </tr>\n",
       "  </tbody>\n",
       "</table>\n",
       "</div>"
      ],
      "text/plain": [
       "          id    case_number incident_datetime  latitude  longitude  \\\n",
       "1  826958308  2017-00089659        2017-11-12   33.4220   -111.923   \n",
       "2  826958309  2017-00090666        2017-11-15   33.4534   -111.937   \n",
       "3  826958310  2017-00090717        2017-11-15   33.4535   -111.937   \n",
       "4  826958311  2017-00090756        2017-11-15   33.4548   -112.080   \n",
       "5  827155011  2017-00090703        2017-11-15   33.4183   -111.933   \n",
       "\n",
       "        incident_address     city                         offense  \\\n",
       "1    UNIVERSITY DR & AMP    TEMPE  Driving Under the Influence/Al   \n",
       "2    100 Block TAYLOR ST    TEMPE                   Larceny Theft   \n",
       "3    100 Block TAYLOR ST    TEMPE                   Larceny Theft   \n",
       "4  500 Block FILLMORE ST  PHOENIX                Traffic-Criminal   \n",
       "5    400 Block ORANGE ST    TEMPE                   Larceny Theft   \n",
       "\n",
       "      offense_type  year  \n",
       "1  Quality of Life  2017  \n",
       "2            Theft  2017  \n",
       "3            Theft  2017  \n",
       "4          Traffic  2017  \n",
       "5            Theft  2017  "
      ]
     },
     "execution_count": 10,
     "metadata": {},
     "output_type": "execute_result"
    }
   ],
   "source": [
    "asu_crime_df.offense = asu_crime_df.offense.apply(lambda x: x.split(\"<br>\",1)[1])\n",
    "\n",
    "asu_crime_df.head()"
   ]
  },
  {
   "cell_type": "markdown",
   "metadata": {},
   "source": [
    "### 1.4 - Crimes By Offense\n",
    "\n",
    "Let's get a list of all offenses in the data set, along with how many offenses happened in each."
   ]
  },
  {
   "cell_type": "code",
   "execution_count": 11,
   "metadata": {},
   "outputs": [
    {
     "name": "stdout",
     "output_type": "stream",
     "text": [
      "ASU Offenses\n",
      "Larceny Theft                      5787\n",
      "Alcohol/Title 4 Violation          1822\n",
      "Drug/Narcotic Violations           1427\n",
      "Criminal Damage                    1175\n",
      "Traffic-Criminal                   1085\n",
      "Driving Under the Influence/Al      516\n",
      "Trespass/Loitering                  453\n",
      "Traffic-Civil                       411\n",
      "Property-Found, Lost, Impound\"      400\n",
      "Accident/Non-Injury                 304\n",
      "Assault, Misd or Other\"             238\n",
      "Warrant Arrest                      207\n",
      "Disorderly Conduct                  122\n",
      "Forgery/Fraud                       114\n",
      "Suspicious Person/Activity          107\n",
      "Property-Found, Lost, Impound       102\n",
      "Assault, Misd or Other               85\n",
      "Accident/Injuries                    84\n",
      "Burglary/Vehicle                     76\n",
      "Assault, Aggravated\"                 72\n",
      "Harassment/Stalking                  62\n",
      "Threatening                          56\n",
      "Burglary/Structure                   51\n",
      "Impound for destruction              40\n",
      "Robbery                              37\n",
      "Arson/Reckless Burn                  30\n",
      "Missing/Found Person                 29\n",
      "False Reporting                      25\n",
      "Sex Offense/Ind Exp, Pub Indec\"      24\n",
      "Fire/Fire Alarm                      22\n",
      "Sexual Abuse                         22\n",
      "Violation of Court Order - Pro       18\n",
      "Sex Offense/Ind Exp, Pub Indec       16\n",
      "Death Investigation                  16\n",
      "Computer Crime                       16\n",
      "Assault, Aggravated                  15\n",
      "Vehicle Theft/Misuse of Transp       15\n",
      "Possess Stolen Property               9\n",
      "Weapons Offense                       5\n",
      "Disturbance/Civil,Neighbor,Noi\"       5\n",
      "Burglary/Vending                      3\n",
      "Pursuit/Failure to Yield              2\n",
      "Vehicle - Recovered                   2\n",
      "Taking Identity of Another            2\n",
      "Kidnapping                            2\n",
      "Sexual Assault-Rape, Attempted\"       2\n",
      "Endangerment                          2\n",
      "Accident/Fatalities                   2\n",
      "Custodial Interference                2\n",
      "X-dont use Accident/Hit & Run         2\n",
      "Malicious Mischief                    1\n",
      "Other Persons Crime, Not Liste\"       1\n",
      "Prostitution                          1\n",
      "Haz Mat/Safety Issue                  1\n",
      "Name: offense, dtype: int64\n",
      "\n",
      "\n",
      "Tempe Offenses\n",
      "ACCIDENT-NO INJURY                16840\n",
      "ASSAULT                           12566\n",
      "THEFT OTHER                       10140\n",
      "CRIMINAL DAMAGE                    8701\n",
      "SHOPLIFTING                        8615\n",
      "BURGLARY FROM VEHICLE              8046\n",
      "ACCIDENT-INJURY                    7193\n",
      "ACCIDENT-HIT AND RUN               7009\n",
      "VEHICLE IMPOUND                    5864\n",
      "DUI-LIQUOR                         5420\n",
      "TRESPASSING                        4199\n",
      "DISORDERLY CONDUCT                 4116\n",
      "BURGLARY NO FORCE                  3766\n",
      "THEFT OF BICYCLE                   3594\n",
      "MARIJUANA-POSSESSION               3542\n",
      "BURGLARY FORCE                     3150\n",
      "MOTOR VEHICLE THEFT                2969\n",
      "THEFT FROM BUILDING                2634\n",
      "DRUG PARAPHERNALIA                 2594\n",
      "CRIMINAL DAMAGE VEHICLE            2077\n",
      "AGGRAVATED ASSAULT                 2061\n",
      "DANGEROUS DRUGS-POSSESSION         1710\n",
      "CHILD CRIMES INFORMATION           1593\n",
      "THEFT FROM MOTOR VEHICLE           1563\n",
      "IDENTITY THEFT                     1510\n",
      "THREAT/INTIMIDATE PERSON           1388\n",
      "OTHER CRIMINAL OFFENSE             1263\n",
      "NARCOTIC DRUG-POSSESSION           1238\n",
      "LIQUOR LAW VIOLATION               1226\n",
      "DEATH                              1136\n",
      "                                  ...  \n",
      "THREAT/INTIMIDATE PERSON W/GUN       30\n",
      "UNLAWFUL IMPRISONMENT                30\n",
      "INTERFERE EDUCATIONAL INST           29\n",
      "FAILURE TO RETURN RENTAL CAR         25\n",
      "STALKING                             23\n",
      "CRIMINAL LITTERING/POLLUTING         22\n",
      "FRAUD-IMPERSONATION                  21\n",
      "KIDNAPPING                           21\n",
      "COCAINE-POSSESSION                   21\n",
      "CHILD PROSTITUTION                   20\n",
      "REMOVE/ALTER/DAMAGE VIN              16\n",
      "DRIVE BY SHOOTING                    15\n",
      "CONTRIBUTING DELINQUENCY MINOR       15\n",
      "COCAINE-SELL/MANUFACTURE             10\n",
      "MANSLAUGHTER                          9\n",
      "POSSESS FORGERY DEVICE                8\n",
      "PORNOGRAPHY-OBSCENE MATERIAL          7\n",
      "HINDERING PROSECUTION                 6\n",
      "LURING MINOR SEX EXPLOITATION         6\n",
      "CONSPIRACY OF A CRIME                 5\n",
      "ASSIST/PROMOTE PROSTITUTION           5\n",
      "POSSESS BURGLARY TOOLS                4\n",
      "ESCAPE                                3\n",
      "OFCR INVOLVED FATAL SHOOTING          3\n",
      "TERRORISM                             2\n",
      "SOLICITATION OF A CRIME               2\n",
      "TRAFFIC MANSLAUGHTER                  1\n",
      "FACILITATION OF A CRIME               1\n",
      "BESTIALITY                            1\n",
      "HOMICIDE-NEGLIGENT                    1\n",
      "Name: offense, Length: 146, dtype: int64\n"
     ]
    }
   ],
   "source": [
    "print (\"ASU Offenses\")\n",
    "print (asu_crime_df['offense'].value_counts())\n",
    "\n",
    "print (\"\\n\\nTempe Offenses\")\n",
    "print(tempe_crime_df['offense'].value_counts())"
   ]
  },
  {
   "cell_type": "markdown",
   "metadata": {},
   "source": [
    "It seems like ASU Campus Police tends to spend a large chunk of their time dealing with theft, followed by alcohol and drug violations. Tempe PD on the other hand deals more with accident and assaults, then theft. This makes sense when you consider that ASU PD spends most of their time dealing with dorm residents, where alcohol and drugs are banned. Tempe PD on the other hand has a greater jurisdiction and deals with more issues."
   ]
  },
  {
   "cell_type": "markdown",
   "metadata": {},
   "source": [
    "### 1.5 - ASU vs Tempe Crime Map Visualization\n",
    "\n",
    "It's hard to grasp exactly where the jurisdiction of one police department ends and the next one begins. Let's plot out where each department responds on a map.\n",
    "\n",
    "We'll plot out only crimes from 2017. We'll also randomly drop rows from the Tempe dataset for 2 reasons:\n",
    "\n",
    " - There's about 10 times more Tempe records, and we just care to see a rough approximation of where crime occurs\n",
    " - I'm using google maps to visualize the data, and there's a limit to how many free api calls you get\n",
    " \n",
    " - Note that a screenshot is rendered instead. To get an interactive map, uncomment the code below"
   ]
  },
  {
   "cell_type": "code",
   "execution_count": 21,
   "metadata": {},
   "outputs": [
    {
     "name": "stdout",
     "output_type": "stream",
     "text": [
      "Creating 2017 Datasets...\n"
     ]
    }
   ],
   "source": [
    "print (\"Creating 2017 Datasets...\")\n",
    "\n",
    "import gmaps\n",
    "gmaps.configure(api_key=os.getenv(\"G_MAPS_API_KEY\")) # Your Google API key\n",
    "\n",
    "# df = gmaps.datasets.load_dataset_as_df('starbucks_kfc_uk')\n",
    "\n",
    "# starbucks_df = asu_crime_df[asu_crime_df['chain_name'] == 'starbucks']\n",
    "asu_crime_2017_df = asu_crime_df[asu_crime_df.year == 2017]\n",
    "\n",
    "\n",
    "remove_n = 25000\n",
    "tempe_crime_2017_df = tempe_crime_df[tempe_crime_df.year == 2017]\n",
    "drop_indices = np.random.choice(tempe_crime_2017_df.index, remove_n, replace=False)\n",
    "tempe_crime_2017_df = tempe_crime_2017_df.drop(drop_indices)\n",
    "\n",
    "\n",
    "# NOTE: The code below tenders a comparison map of where asu and tempe pd respond. To save resources,\n",
    "#       the code has been commented out, and a screenshot of the map included below. Uncomment the code\n",
    "#       to create a new interactive map instead\n",
    "\n",
    "# asu_crime_coordinates_df = asu_crime_2017_df[['latitude', 'longitude']]\n",
    "# tempe_crime_coordinates_df = tempe_crime_2017_df[['latitude', 'longitude']]\n",
    "\n",
    "# asu_layer = gmaps.symbol_layer(\n",
    "#     asu_crime_coordinates_df, fill_color=\"green\", stroke_color=\"green\", scale=2\n",
    "# )\n",
    "\n",
    "# tempe_layer = gmaps.symbol_layer(\n",
    "#     tempe_crime_coordinates_df, fill_color=\"red\", stroke_color=\"red\", scale=2\n",
    "# )\n",
    "\n",
    "# fig = gmaps.figure()\n",
    "# fig.add_layer(asu_layer)\n",
    "# fig.add_layer(tempe_layer)\n",
    "# fig"
   ]
  },
  {
   "cell_type": "markdown",
   "metadata": {},
   "source": [
    "![comparison-map](../img/comparison.png)"
   ]
  },
  {
   "cell_type": "markdown",
   "metadata": {},
   "source": [
    "ASU PD is primarily focused on patroling around campus, but they do occasionally respond to calls in the greater Tempe area. Interestingly enough, ASU responds to calls as far as Ahwatukee."
   ]
  },
  {
   "cell_type": "markdown",
   "metadata": {},
   "source": [
    "### 1.6 - ASU Crime Heatmap Visualization\n",
    "\n",
    "Although they respond to off campus calls, ASU PD primarily patrols ASU's Tempe, Downtown, and West campus's. Let's find out where the most crime occurs on campus with a heatmap.\n",
    "\n",
    "We'll reuse the 2017 data from the previous visualization.\n",
    "\n",
    "Keep in mind a screenshot will be rendered here again."
   ]
  },
  {
   "cell_type": "code",
   "execution_count": 22,
   "metadata": {},
   "outputs": [
    {
     "data": {
      "application/vnd.jupyter.widget-view+json": {
       "model_id": "960460bcdf22461ba482c4c1d282e2cb",
       "version_major": 2,
       "version_minor": 0
      },
      "text/plain": [
       "Figure(layout=FigureLayout(height='420px'))"
      ]
     },
     "metadata": {},
     "output_type": "display_data"
    }
   ],
   "source": [
    "fig = gmaps.figure()\n",
    "fig.add_layer(gmaps.heatmap_layer(asu_crime_coordinates_df))\n",
    "fig"
   ]
  },
  {
   "cell_type": "markdown",
   "metadata": {},
   "source": [
    "![heatmap](../img/heatmap.png)"
   ]
  },
  {
   "cell_type": "markdown",
   "metadata": {},
   "source": [
    "Interestingly, it seems like most crime is confined to a few key locations. It's not as spread out or confined to the dorms that I initially would have thought."
   ]
  },
  {
   "cell_type": "markdown",
   "metadata": {},
   "source": [
    "# 2 - Analyzing Crime Data\n",
    "\n",
    "We've now gotten a feel of the dataset, let's start getting into some more advanced analysis.\n",
    "\n",
    "While our datasets are pretty similar in the kinds of data we have stored, the Tempe dataset has few more columns that ASU's dataset doesn't have. One interesting topic to explore is the relationship between `offense` and `location_type`, found only in the Tempe dataset. The Tempe dataset also contains `place_name`. Finally, there's also the topic of when time occurs and what kind of crime occurs at different times of the day or how crime changes based on when ASU classes are in session.\n",
    "\n",
    "### 2.0 - Breakdown Dates\n",
    "In order to assist in this analysis, we'll define a create a few extra columns with the month and weekday for each crime. We will also base the months on 0 instead of 1. This will make charting easier.\n",
    "\n",
    "- offenses_per_location - The ratio of citations to warnings. A higher number signifies a greater likelihood of being ticketed instead of getting off with a warning.\n",
    "- arrest_rate - The percentage of stops that end in an arrest."
   ]
  },
  {
   "cell_type": "code",
   "execution_count": 96,
   "metadata": {},
   "outputs": [
    {
     "data": {
      "text/html": [
       "<div>\n",
       "<style scoped>\n",
       "    .dataframe tbody tr th:only-of-type {\n",
       "        vertical-align: middle;\n",
       "    }\n",
       "\n",
       "    .dataframe tbody tr th {\n",
       "        vertical-align: top;\n",
       "    }\n",
       "\n",
       "    .dataframe thead th {\n",
       "        text-align: right;\n",
       "    }\n",
       "</style>\n",
       "<table border=\"1\" class=\"dataframe\">\n",
       "  <thead>\n",
       "    <tr style=\"text-align: right;\">\n",
       "      <th></th>\n",
       "      <th>id</th>\n",
       "      <th>latitude</th>\n",
       "      <th>longitude</th>\n",
       "      <th>incident_datetime</th>\n",
       "      <th>incident_address</th>\n",
       "      <th>disclaimer</th>\n",
       "      <th>place_name</th>\n",
       "      <th>offense</th>\n",
       "      <th>location_type</th>\n",
       "      <th>year</th>\n",
       "      <th>month</th>\n",
       "      <th>weekday</th>\n",
       "    </tr>\n",
       "  </thead>\n",
       "  <tbody>\n",
       "    <tr>\n",
       "      <th>0</th>\n",
       "      <td>2001</td>\n",
       "      <td>33.4029</td>\n",
       "      <td>-111.965</td>\n",
       "      <td>2016-08-16 08:00:00</td>\n",
       "      <td>1XXX W FOUNTAINHEAD PKWY</td>\n",
       "      <td>Point has not been altered</td>\n",
       "      <td>WESTERN INTERNATIONAL UNIVERSITY</td>\n",
       "      <td>FRAUD</td>\n",
       "      <td>Commercial/Office Building                    ...</td>\n",
       "      <td>2016</td>\n",
       "      <td>7</td>\n",
       "      <td>Tuesday</td>\n",
       "    </tr>\n",
       "    <tr>\n",
       "      <th>1</th>\n",
       "      <td>2002</td>\n",
       "      <td>33.3346</td>\n",
       "      <td>-111.946</td>\n",
       "      <td>2016-09-01 07:53:00</td>\n",
       "      <td>KYRENE RD / W WARNER RD</td>\n",
       "      <td>Point has not been altered</td>\n",
       "      <td>N/A</td>\n",
       "      <td>ACCIDENT-NO INJURY</td>\n",
       "      <td>Highway/Road/Alley/Sidewalk                   ...</td>\n",
       "      <td>2016</td>\n",
       "      <td>8</td>\n",
       "      <td>Thursday</td>\n",
       "    </tr>\n",
       "    <tr>\n",
       "      <th>2</th>\n",
       "      <td>2003</td>\n",
       "      <td>33.3783</td>\n",
       "      <td>-111.929</td>\n",
       "      <td>2016-09-03 23:53:00</td>\n",
       "      <td>RURAL RD / E BASELINE RD</td>\n",
       "      <td>Point has not been altered</td>\n",
       "      <td>N/A</td>\n",
       "      <td>ACCIDENT-INJURY</td>\n",
       "      <td>Highway/Road/Alley/Sidewalk                   ...</td>\n",
       "      <td>2016</td>\n",
       "      <td>8</td>\n",
       "      <td>Saturday</td>\n",
       "    </tr>\n",
       "    <tr>\n",
       "      <th>3</th>\n",
       "      <td>2004</td>\n",
       "      <td>33.3783</td>\n",
       "      <td>-111.930</td>\n",
       "      <td>2016-09-05 12:12:00</td>\n",
       "      <td>7XX E BASELINE RD</td>\n",
       "      <td>Point has not been altered</td>\n",
       "      <td>LOWE'S</td>\n",
       "      <td>SHOPLIFTING</td>\n",
       "      <td>Department/Discount Store                     ...</td>\n",
       "      <td>2016</td>\n",
       "      <td>8</td>\n",
       "      <td>Monday</td>\n",
       "    </tr>\n",
       "    <tr>\n",
       "      <th>4</th>\n",
       "      <td>2005</td>\n",
       "      <td>33.3869</td>\n",
       "      <td>-111.939</td>\n",
       "      <td>2016-09-05 13:02:00</td>\n",
       "      <td>4XXX S MILL AVE</td>\n",
       "      <td>Point has not been altered</td>\n",
       "      <td>DAVENPORT APARTMENTS</td>\n",
       "      <td>CRIMINAL DAMAGE</td>\n",
       "      <td>Residence/Home                                ...</td>\n",
       "      <td>2016</td>\n",
       "      <td>8</td>\n",
       "      <td>Monday</td>\n",
       "    </tr>\n",
       "  </tbody>\n",
       "</table>\n",
       "</div>"
      ],
      "text/plain": [
       "     id  latitude  longitude   incident_datetime  \\\n",
       "0  2001   33.4029   -111.965 2016-08-16 08:00:00   \n",
       "1  2002   33.3346   -111.946 2016-09-01 07:53:00   \n",
       "2  2003   33.3783   -111.929 2016-09-03 23:53:00   \n",
       "3  2004   33.3783   -111.930 2016-09-05 12:12:00   \n",
       "4  2005   33.3869   -111.939 2016-09-05 13:02:00   \n",
       "\n",
       "                incident_address                  disclaimer  \\\n",
       "0  1XXX W FOUNTAINHEAD PKWY       Point has not been altered   \n",
       "1      KYRENE RD / W WARNER RD    Point has not been altered   \n",
       "2     RURAL RD / E BASELINE RD    Point has not been altered   \n",
       "3          7XX E BASELINE RD      Point has not been altered   \n",
       "4           4XXX S MILL AVE       Point has not been altered   \n",
       "\n",
       "                                 place_name                         offense  \\\n",
       "0  WESTERN INTERNATIONAL UNIVERSITY          FRAUD                            \n",
       "1                                       N/A  ACCIDENT-NO INJURY               \n",
       "2                                       N/A  ACCIDENT-INJURY                  \n",
       "3  LOWE'S                                    SHOPLIFTING                      \n",
       "4  DAVENPORT APARTMENTS                      CRIMINAL DAMAGE                  \n",
       "\n",
       "                                       location_type  year  month   weekday  \n",
       "0  Commercial/Office Building                    ...  2016      7   Tuesday  \n",
       "1  Highway/Road/Alley/Sidewalk                   ...  2016      8  Thursday  \n",
       "2  Highway/Road/Alley/Sidewalk                   ...  2016      8  Saturday  \n",
       "3  Department/Discount Store                     ...  2016      8    Monday  \n",
       "4  Residence/Home                                ...  2016      8    Monday  "
      ]
     },
     "execution_count": 96,
     "metadata": {},
     "output_type": "execute_result"
    }
   ],
   "source": [
    "tempe_crime_df['month'] = tempe_crime_df['incident_datetime'].map(lambda x: x.month-1)\n",
    "asu_crime_df['month'] = asu_crime_df['incident_datetime'].map(lambda x: x.month-1)\n",
    "\n",
    "tempe_crime_df['weekday'] = tempe_crime_df['incident_datetime'].map(lambda x: x.strftime(\"%A\"))\n",
    "asu_crime_df['weekday'] = asu_crime_df['incident_datetime'].map(lambda x: x.strftime(\"%A\"))\n",
    "\n",
    "tempe_crime_df.head()"
   ]
  },
  {
   "cell_type": "markdown",
   "metadata": {},
   "source": [
    "### 2.1 - Monthly Trends in Crime\n",
    "\n",
    "Let's see how crime rates change over time."
   ]
  },
  {
   "cell_type": "code",
   "execution_count": 113,
   "metadata": {},
   "outputs": [
    {
     "data": {
      "image/png": "[encoded data removed]",
      "text/plain": [
       "<Figure size 1152x432 with 1 Axes>"
      ]
     },
     "metadata": {
      "needs_background": "light"
     },
     "output_type": "display_data"
    },
    {
     "data": {
      "image/png": "[encoded data removed]",
      "text/plain": [
       "<Figure size 1152x432 with 1 Axes>"
      ]
     },
     "metadata": {
      "needs_background": "light"
     },
     "output_type": "display_data"
    }
   ],
   "source": [
    "months = ['Jan', 'Feb', 'Mar', 'Apr', 'May', 'Jun', 'Jul', 'Aug', 'Sep', 'Oct', 'Nov', 'Dec']\n",
    "\n",
    "# Tempe Crime\n",
    "tempe_monthly_crime_df = tempe_crime_df.groupby(['month'], as_index=False)[['id']].count()\n",
    "# make plot big\n",
    "plt.figure(figsize=(16, 6))\n",
    "sns.lineplot(x=\"month\", y=\"id\", data=tempe_monthly_crime_df)\n",
    "plt.xticks(np.arange(12), months)\n",
    "plt.ylabel('no. of crimes')\n",
    "plt.title('Tempe Crimes per Year')\n",
    "plt.show()\n",
    "\n",
    "# ASU Crime\n",
    "asu_monthly_crime_df = asu_crime_df.groupby(['month'], as_index=False)[['id']].count()\n",
    "# make plot big\n",
    "plt.figure(figsize=(16, 6))\n",
    "sns.lineplot(x=\"month\", y=\"id\", data=asu_monthly_crime_df)\n",
    "plt.xticks(np.arange(12), months)\n",
    "plt.ylabel('no. of crimes')\n",
    "plt.title('ASU Crimes per Year')\n",
    "plt.show()"
   ]
  },
  {
   "cell_type": "markdown",
   "metadata": {},
   "source": [
    "Unsurprisingly, crime takes a dip in summer months when students aren't on campus. There's a significant upswing in crime in August, and in the ASU dataset August and September are the peak for numbers of crimes. This is probably due to students returning and students being caught drinking early in the semester when cops are on full patrol.\n",
    "\n",
    "What is surprising is the drop of crime in November for the Tempe dataset. It bounces back in December, breaking the trend that breaks in classes = less students = less crime."
   ]
  },
  {
   "cell_type": "markdown",
   "metadata": {},
   "source": [
    "### 2.2 - Weekly Trends"
   ]
  },
  {
   "cell_type": "code",
   "execution_count": 115,
   "metadata": {},
   "outputs": [
    {
     "data": {
      "image/png": "[encoded data removed]",
      "text/plain": [
       "<Figure size 1152x432 with 1 Axes>"
      ]
     },
     "metadata": {
      "needs_background": "light"
     },
     "output_type": "display_data"
    },
    {
     "data": {
      "image/png": "[encoded data removed]",
      "text/plain": [
       "<Figure size 1152x432 with 1 Axes>"
      ]
     },
     "metadata": {
      "needs_background": "light"
     },
     "output_type": "display_data"
    }
   ],
   "source": [
    "weekdays = ['Monday', 'Tuesday', 'Wednesday', 'Thursday', 'Friday', 'Saturday', 'Sunday']\n",
    "\n",
    "# Tempe Crime\n",
    "tempe_weekday_crime_df = tempe_crime_df.groupby(['weekday'], as_index=False)[['id']].count()\n",
    "# make plot big\n",
    "plt.figure(figsize=(16, 6))\n",
    "sns.lineplot(x=\"weekday\", y=\"id\", data=tempe_weekday_crime_df)\n",
    "plt.xticks(np.arange(7), weekdays)\n",
    "plt.ylabel('no. of crimes')\n",
    "plt.title('Tempe Crimes per Weekday')\n",
    "plt.show()\n",
    "\n",
    "# ASU Crime\n",
    "asu_weekday_crime_df = asu_crime_df.groupby(['weekday'], as_index=False)[['id']].count()\n",
    "# make plot big\n",
    "plt.figure(figsize=(16, 6))\n",
    "sns.lineplot(x=\"weekday\", y=\"id\", data=asu_weekday_crime_df)\n",
    "plt.xticks(np.arange(7), weekdays)\n",
    "plt.ylabel('no. of crimes')\n",
    "plt.title('ASU Crimes per Weekday')\n",
    "plt.show()"
   ]
  },
  {
   "cell_type": "markdown",
   "metadata": {},
   "source": [
    "### 2.3 - Types of Crime\n",
    "\n",
    "Let's take a look at the types of crime and how often they occur. ASU's dataset includes a column for types of crime "
   ]
  },
  {
   "cell_type": "code",
   "execution_count": 125,
   "metadata": {},
   "outputs": [
    {
     "data": {
      "image/png": "[encoded data removed]",
      "text/plain": [
       "<Figure size 1152x432 with 1 Axes>"
      ]
     },
     "metadata": {
      "needs_background": "light"
     },
     "output_type": "display_data"
    }
   ],
   "source": [
    "plt.figure(figsize=(16, 6))\n",
    "sns.countplot(x='offense_type', data=asu_crime_df, order=asu_crime_df.offense_type.value_counts().index)\n",
    "plt.xticks(rotation='vertical')\n",
    "plt.show()"
   ]
  },
  {
   "cell_type": "code",
   "execution_count": null,
   "metadata": {},
   "outputs": [],
   "source": []
  }
 ],
 "metadata": {
  "kernelspec": {
   "display_name": "Python (crime-analysis)",
   "language": "python",
   "name": "crime-analysis"
  },
  "language_info": {
   "codemirror_mode": {
    "name": "ipython",
    "version": 3
   },
   "file_extension": ".py",
   "mimetype": "text/x-python",
   "name": "python",
   "nbconvert_exporter": "python",
   "pygments_lexer": "ipython3",
   "version": "3.7.0"
  }
 },
 "nbformat": 4,
 "nbformat_minor": 2
}
